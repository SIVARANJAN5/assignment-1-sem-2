{
 "cells": [
  {
   "cell_type": "code",
   "execution_count": 14,
   "id": "be5a3874-363b-435a-982f-4302033a2812",
   "metadata": {},
   "outputs": [
    {
     "name": "stdin",
     "output_type": "stream",
     "text": [
      "Enter your roll:  055\n",
      "Enter Name:  siva\n",
      "Enter mark of the first subject:  98\n",
      "Enter mark of the second subject:  91\n",
      "Enter mark of the third subject:  92\n",
      "Enter mark of the fourth subject:  85\n",
      "Enter mark of the fifth subject:  95\n"
     ]
    },
    {
     "name": "stdout",
     "output_type": "stream",
     "text": [
      "Grade: A\n"
     ]
    }
   ],
   "source": [
    "roll=int(input(\"Enter your roll: \"))\n",
    "name=input(\"Enter Name: \")\n",
    "sub1=int(input(\"Enter mark of the first subject: \"))\n",
    "sub2=int(input(\"Enter mark of the second subject: \"))\n",
    "sub3=int(input(\"Enter mark of the third subject: \"))\n",
    "sub4=int(input(\"Enter mark of the fourth subject: \"))\n",
    "sub5=int(input(\"Enter mark of the fifth subject: \"))\n",
    "\n",
    "avg=(sub1+sub2+sub3+sub4+sub5)/5\n",
    "if(avg>=90):\n",
    "    print(\"Grade: A\")\n",
    "elif(avg>=80&avg<90):\n",
    "    print(\"Grade: B\")\n",
    "elif(avg>=70&avg<80):\n",
    "    print(\"Grade: C\")\n",
    "elif(avg>=60&avg<70):\n",
    "    print(\"Grade: D\")\n",
    "else:\n",
    "    print(\"Grade: F\")"
   ]
  },
  {
   "cell_type": "code",
   "execution_count": null,
   "id": "3d296f98-48b9-42e9-850e-543b455effea",
   "metadata": {},
   "outputs": [],
   "source": []
  }
 ],
 "metadata": {
  "kernelspec": {
   "display_name": "Python 3 (ipykernel)",
   "language": "python",
   "name": "python3"
  },
  "language_info": {
   "codemirror_mode": {
    "name": "ipython",
    "version": 3
   },
   "file_extension": ".py",
   "mimetype": "text/x-python",
   "name": "python",
   "nbconvert_exporter": "python",
   "pygments_lexer": "ipython3",
   "version": "3.11.7"
  }
 },
 "nbformat": 4,
 "nbformat_minor": 5
}
